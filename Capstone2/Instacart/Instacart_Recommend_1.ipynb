{
 "cells": [
  {
   "cell_type": "markdown",
   "metadata": {},
   "source": [
    "<img src=\"Instacart_logo_small.png\" alt=\"Instacart\" style=\"width: 100px;\"/>"
   ]
  },
  {
   "cell_type": "markdown",
   "metadata": {},
   "source": [
    "# Recommend products to Instacart Customers"
   ]
  },
  {
   "cell_type": "markdown",
   "metadata": {},
   "source": [
    "## Introduction"
   ]
  },
  {
   "cell_type": "markdown",
   "metadata": {},
   "source": [
    "As per the English dictionary, Recommendation means a suggestion/advice that something is good. \n",
    "\n",
    "In today's world of multiple choices, customers are often confused with options. Browsing through hundreds of products makes shopping a challenging and time-consuming experience. \n",
    "So, how about we login to a shopping site and see 10 recommended products tailored to our taste? Just Add those to cart, checkout and done! This is what a recommendation engine does! Thus a Recommendation Engine is a Machine Learning Technique that let us predict what a user may or may not like among a list of given items. \n",
    "\n",
    "Here, let's use the dataset provided by Instacart to build a recommendation engine and Evaluate how our recommendation works?"
   ]
  },
  {
   "cell_type": "markdown",
   "metadata": {},
   "source": [
    "## Prepare Data"
   ]
  },
  {
   "cell_type": "markdown",
   "metadata": {},
   "source": [
    "#### Load Libraries"
   ]
  },
  {
   "cell_type": "code",
   "execution_count": 1,
   "metadata": {},
   "outputs": [],
   "source": [
    "# Imports\n",
    "from implicit.als import AlternatingLeastSquares\n",
    "from datetime import datetime\n",
    "from pathlib import Path\n",
    "from sklearn.metrics.pairwise import cosine_similarity\n",
    "\n",
    "import scipy.sparse as sparse\n",
    "import implicit\n",
    "import pandas as pd\n",
    "import numpy as np\n",
    "import pickle\n",
    "import time\n",
    "from joblib import dump, load\n",
    "from sklearn import metrics\n",
    "import random\n",
    "import warnings\n",
    "warnings.filterwarnings('ignore')\n"
   ]
  },
  {
   "cell_type": "markdown",
   "metadata": {},
   "source": [
    "#### Load Data"
   ]
  },
  {
   "cell_type": "code",
   "execution_count": 2,
   "metadata": {},
   "outputs": [],
   "source": [
    "# Order datasets\n",
    "df_order_products_prior = pd.read_csv(\"instacart_2017_05_01/order_products_prior.csv\")\n",
    "df_order_products_train = pd.read_csv(\"instacart_2017_05_01/order_products_train.csv\")\n",
    "df_orders = pd.read_csv(\"instacart_2017_05_01/orders.csv\") \n",
    "# Products\n",
    "df_products = pd.read_csv(\"instacart_2017_05_01/products.csv\")\n",
    "# Departments\n",
    "df_departments = pd.read_csv(\"instacart_2017_05_01/departments.csv\")"
   ]
  },
  {
   "cell_type": "markdown",
   "metadata": {},
   "source": [
    "#### Merge Prior Orders with Products and Department"
   ]
  },
  {
   "cell_type": "code",
   "execution_count": 3,
   "metadata": {},
   "outputs": [],
   "source": [
    "# Merge prior orders and products\n",
    "df_merged_order_products_prior = pd.merge(df_order_products_prior, df_products, on=\"product_id\", how=\"left\")\n",
    "# Merge prior orders and departments\n",
    "df_merged_order_products_prior = pd.merge(df_merged_order_products_prior, df_departments, on=\"department_id\", how=\"left\")"
   ]
  },
  {
   "cell_type": "markdown",
   "metadata": {},
   "source": [
    "#### Merge Train Orders with Products and Department"
   ]
  },
  {
   "cell_type": "code",
   "execution_count": 4,
   "metadata": {},
   "outputs": [],
   "source": [
    "# Merge train orders and products\n",
    "df_merged_order_products_train = pd.merge(df_order_products_train, df_products, on=\"product_id\", how=\"left\")\n",
    "# Merge train orders and departments\n",
    "df_merged_order_products_train = pd.merge(df_merged_order_products_train, df_departments, on=\"department_id\", how=\"left\")"
   ]
  },
  {
   "cell_type": "markdown",
   "metadata": {},
   "source": [
    "**In this project, we will use the Prior Data for Building a Model and Train Data for Testing our Model performance.** "
   ]
  },
  {
   "cell_type": "code",
   "execution_count": 5,
   "metadata": {},
   "outputs": [
    {
     "data": {
      "text/html": [
       "<div>\n",
       "<style scoped>\n",
       "    .dataframe tbody tr th:only-of-type {\n",
       "        vertical-align: middle;\n",
       "    }\n",
       "\n",
       "    .dataframe tbody tr th {\n",
       "        vertical-align: top;\n",
       "    }\n",
       "\n",
       "    .dataframe thead th {\n",
       "        text-align: right;\n",
       "    }\n",
       "</style>\n",
       "<table border=\"1\" class=\"dataframe\">\n",
       "  <thead>\n",
       "    <tr style=\"text-align: right;\">\n",
       "      <th></th>\n",
       "      <th>order_id</th>\n",
       "      <th>product_id</th>\n",
       "      <th>add_to_cart_order</th>\n",
       "      <th>reordered</th>\n",
       "      <th>product_name</th>\n",
       "      <th>aisle_id</th>\n",
       "      <th>department_id</th>\n",
       "      <th>department</th>\n",
       "    </tr>\n",
       "  </thead>\n",
       "  <tbody>\n",
       "    <tr>\n",
       "      <th>0</th>\n",
       "      <td>2</td>\n",
       "      <td>33120</td>\n",
       "      <td>1</td>\n",
       "      <td>1</td>\n",
       "      <td>Organic Egg Whites</td>\n",
       "      <td>86</td>\n",
       "      <td>16</td>\n",
       "      <td>dairy eggs</td>\n",
       "    </tr>\n",
       "    <tr>\n",
       "      <th>1</th>\n",
       "      <td>2</td>\n",
       "      <td>28985</td>\n",
       "      <td>2</td>\n",
       "      <td>1</td>\n",
       "      <td>Michigan Organic Kale</td>\n",
       "      <td>83</td>\n",
       "      <td>4</td>\n",
       "      <td>produce</td>\n",
       "    </tr>\n",
       "  </tbody>\n",
       "</table>\n",
       "</div>"
      ],
      "text/plain": [
       "   order_id  product_id  add_to_cart_order  reordered           product_name  \\\n",
       "0         2       33120                  1          1     Organic Egg Whites   \n",
       "1         2       28985                  2          1  Michigan Organic Kale   \n",
       "\n",
       "   aisle_id  department_id  department  \n",
       "0        86             16  dairy eggs  \n",
       "1        83              4     produce  "
      ]
     },
     "execution_count": 5,
     "metadata": {},
     "output_type": "execute_result"
    }
   ],
   "source": [
    "df_merged_order_products_prior.head(2)"
   ]
  },
  {
   "cell_type": "code",
   "execution_count": 6,
   "metadata": {},
   "outputs": [
    {
     "data": {
      "text/html": [
       "<div>\n",
       "<style scoped>\n",
       "    .dataframe tbody tr th:only-of-type {\n",
       "        vertical-align: middle;\n",
       "    }\n",
       "\n",
       "    .dataframe tbody tr th {\n",
       "        vertical-align: top;\n",
       "    }\n",
       "\n",
       "    .dataframe thead th {\n",
       "        text-align: right;\n",
       "    }\n",
       "</style>\n",
       "<table border=\"1\" class=\"dataframe\">\n",
       "  <thead>\n",
       "    <tr style=\"text-align: right;\">\n",
       "      <th></th>\n",
       "      <th>order_id</th>\n",
       "      <th>product_id</th>\n",
       "      <th>add_to_cart_order</th>\n",
       "      <th>reordered</th>\n",
       "      <th>product_name</th>\n",
       "      <th>aisle_id</th>\n",
       "      <th>department_id</th>\n",
       "      <th>department</th>\n",
       "    </tr>\n",
       "  </thead>\n",
       "  <tbody>\n",
       "    <tr>\n",
       "      <th>0</th>\n",
       "      <td>1</td>\n",
       "      <td>49302</td>\n",
       "      <td>1</td>\n",
       "      <td>1</td>\n",
       "      <td>Bulgarian Yogurt</td>\n",
       "      <td>120</td>\n",
       "      <td>16</td>\n",
       "      <td>dairy eggs</td>\n",
       "    </tr>\n",
       "    <tr>\n",
       "      <th>1</th>\n",
       "      <td>1</td>\n",
       "      <td>11109</td>\n",
       "      <td>2</td>\n",
       "      <td>1</td>\n",
       "      <td>Organic 4% Milk Fat Whole Milk Cottage Cheese</td>\n",
       "      <td>108</td>\n",
       "      <td>16</td>\n",
       "      <td>dairy eggs</td>\n",
       "    </tr>\n",
       "  </tbody>\n",
       "</table>\n",
       "</div>"
      ],
      "text/plain": [
       "   order_id  product_id  add_to_cart_order  reordered  \\\n",
       "0         1       49302                  1          1   \n",
       "1         1       11109                  2          1   \n",
       "\n",
       "                                    product_name  aisle_id  department_id  \\\n",
       "0                               Bulgarian Yogurt       120             16   \n",
       "1  Organic 4% Milk Fat Whole Milk Cottage Cheese       108             16   \n",
       "\n",
       "   department  \n",
       "0  dairy eggs  \n",
       "1  dairy eggs  "
      ]
     },
     "execution_count": 6,
     "metadata": {},
     "output_type": "execute_result"
    }
   ],
   "source": [
    "df_merged_order_products_train.head(2)"
   ]
  },
  {
   "cell_type": "markdown",
   "metadata": {},
   "source": [
    "## Part 1 - Basic Recommendations"
   ]
  },
  {
   "cell_type": "markdown",
   "metadata": {},
   "source": [
    "### 1. Trending Products at Instacart"
   ]
  },
  {
   "cell_type": "markdown",
   "metadata": {},
   "source": [
    "New to Instacart and not sure what to order? Let's check out what other customers are buying?"
   ]
  },
  {
   "cell_type": "code",
   "execution_count": 7,
   "metadata": {},
   "outputs": [],
   "source": [
    "def get_k_popular(k, df_items):\n",
    "    \"\"\"\n",
    "    Returns the `k` most popular products based on purchase count in the dataset\n",
    "    \"\"\"\n",
    "    popular_products = list(df_items[\"product_name\"].value_counts().head(k).index)\n",
    "    return popular_products"
   ]
  },
  {
   "cell_type": "code",
   "execution_count": 8,
   "metadata": {},
   "outputs": [
    {
     "data": {
      "text/plain": [
       "['Banana',\n",
       " 'Bag of Organic Bananas',\n",
       " 'Organic Strawberries',\n",
       " 'Organic Baby Spinach',\n",
       " 'Organic Hass Avocado',\n",
       " 'Organic Avocado',\n",
       " 'Large Lemon',\n",
       " 'Strawberries',\n",
       " 'Limes',\n",
       " 'Organic Whole Milk']"
      ]
     },
     "execution_count": 8,
     "metadata": {},
     "output_type": "execute_result"
    }
   ],
   "source": [
    "get_k_popular(10,df_merged_order_products_prior)"
   ]
  },
  {
   "cell_type": "markdown",
   "metadata": {},
   "source": [
    "### 2. Recommendations from the Departments that the Customers are interested in"
   ]
  },
  {
   "cell_type": "code",
   "execution_count": 9,
   "metadata": {},
   "outputs": [],
   "source": [
    "def get_k_popular_dept_items(k, dept_id, df_items):\n",
    "    \"\"\"\n",
    "    Returns the `k` most popular products from the Dept that is passed as a parameter\n",
    "    \n",
    "    k       : No. Of Recommendations\n",
    "    dept_id : Pass in the Department Id that you are looking details for\n",
    "    df_items: Pass in the Dataframe with Details\n",
    "    \n",
    "    \"\"\"\n",
    "    dept_popular_products = list(df_items[df_items.department_id == dept_id][\"product_name\"].value_counts().head(k).index)\n",
    "    return dept_popular_products"
   ]
  },
  {
   "cell_type": "markdown",
   "metadata": {},
   "source": [
    "#### Let's see what are the 10 popular products from Department_id = 6 (International)"
   ]
  },
  {
   "cell_type": "code",
   "execution_count": 10,
   "metadata": {},
   "outputs": [
    {
     "data": {
      "text/plain": [
       "['Organic Sea Salt Roasted Seaweed Snacks',\n",
       " 'Taco Seasoning',\n",
       " 'New Mexico Taco Skillet Sauce For Chicken',\n",
       " 'Sriracha Chili Sauce',\n",
       " 'Original Roasted Seaweed Snacks',\n",
       " 'Coconut Milk',\n",
       " 'Organic Spicy Taco Seasoning',\n",
       " 'Sriracha Hot Chili Sauce',\n",
       " 'Roasted Sesame Seaweed Snacks',\n",
       " 'Sliced Water Chestnuts']"
      ]
     },
     "execution_count": 10,
     "metadata": {},
     "output_type": "execute_result"
    }
   ],
   "source": [
    "get_k_popular_dept_items(10,6,df_merged_order_products_prior)"
   ]
  },
  {
   "cell_type": "markdown",
   "metadata": {},
   "source": [
    "### 3. Recommended Items that other Customers Often Buy Again"
   ]
  },
  {
   "cell_type": "code",
   "execution_count": 11,
   "metadata": {},
   "outputs": [],
   "source": [
    "def get_reordered_prods(k, df_items):\n",
    "    \"\"\"\n",
    "    Returns the `k` most popular products from the Dept that is passed as a parameter\n",
    "    \n",
    "    k       : No. Of Recommendations\n",
    "    df_items: Pass in the Dataframe with Details\n",
    "    \n",
    "    \"\"\"\n",
    "    df = df_items[df_items.reordered ==1]\n",
    "    reordered_products = list(df[\"product_name\"].value_counts().head(10).index)\n",
    "    return reordered_products"
   ]
  },
  {
   "cell_type": "code",
   "execution_count": 12,
   "metadata": {},
   "outputs": [
    {
     "data": {
      "text/plain": [
       "['Banana',\n",
       " 'Bag of Organic Bananas',\n",
       " 'Organic Strawberries',\n",
       " 'Organic Baby Spinach',\n",
       " 'Organic Hass Avocado',\n",
       " 'Organic Avocado',\n",
       " 'Organic Whole Milk',\n",
       " 'Large Lemon',\n",
       " 'Organic Raspberries',\n",
       " 'Strawberries']"
      ]
     },
     "execution_count": 12,
     "metadata": {},
     "output_type": "execute_result"
    }
   ],
   "source": [
    "get_reordered_prods(10, df_merged_order_products_prior)"
   ]
  },
  {
   "cell_type": "markdown",
   "metadata": {},
   "source": [
    "### 4. Shop Unique Items"
   ]
  },
  {
   "cell_type": "code",
   "execution_count": 13,
   "metadata": {},
   "outputs": [],
   "source": [
    "def get_k_unique(k, df_items):\n",
    "    \"\"\"\n",
    "    Returns the `k` unique products based on purchase count in the dataset\n",
    "    \"\"\"\n",
    "    unique_products = list(df_items[\"product_name\"].value_counts().tail(k).index)\n",
    "    return unique_products"
   ]
  },
  {
   "cell_type": "code",
   "execution_count": 14,
   "metadata": {},
   "outputs": [
    {
     "data": {
      "text/plain": [
       "['Piquillo & Jalapeno Bruschetta',\n",
       " 'Greek Blended Cherry Fat Free Yogurt',\n",
       " 'Blueberry Blast Fruit and Chia Seed Bar',\n",
       " 'Imported Stout Draught Style',\n",
       " 'Raspberry Blast Fruit and Chia Seed Bar',\n",
       " 'Sloppy Joe Sandwich Makers',\n",
       " 'Lindor Peppermint White Chocolate Truffles',\n",
       " 'Multigrain Penne Rigate',\n",
       " 'Orange Recharge',\n",
       " 'Dynostix Rawhide Chew With Meat']"
      ]
     },
     "execution_count": 14,
     "metadata": {},
     "output_type": "execute_result"
    }
   ],
   "source": [
    "get_k_unique(10,df_merged_order_products_prior)"
   ]
  },
  {
   "cell_type": "markdown",
   "metadata": {},
   "source": [
    "## Part 2 - Build Reommendation Engine using Collaborative Filtering for Implicit Data"
   ]
  },
  {
   "cell_type": "markdown",
   "metadata": {},
   "source": [
    "**Collborative Filtering:** A technique used for Recommendations by collecting user’s past behaviors (items previously purchased or reordered) as well as similar decisions made by other users.\n",
    "<br>*Assumption:* If a person A has the same opinion as a person B on a product, A is more likely to have B's opinion on a different product than that of a randomly chosen person. Hence, These predictions are specific to the user, but use information gleaned from many users. This differs from the simpler approach of giving an average (non-specific) score for each item of interest, for example based on its number of times bought/ reordered etc.\n",
    "<br><br>**Implicit Data:** The data that we gather from the users behaviour, with no ratings or specific actions are Implicit Data. For example, with star ratings we know that a 1 means the user did not like the item and a 5 that they really loved it. But here, we do not have a rating for any item. So, we need to build a Recommendation Engine based on what items a customer purchased and how many times (Reordered)."
   ]
  },
  {
   "cell_type": "markdown",
   "metadata": {},
   "source": [
    "### Model 1: Calculate Cosine Similarity"
   ]
  },
  {
   "cell_type": "markdown",
   "metadata": {},
   "source": [
    "Mathematically **Cosine similarity** is a measure of similarity between two non-zero vectors by calculating the cosine of the angle between them.\n",
    "<br>In simple words, we can use the Cosine Similarity algorithm to find similarity between two things. In this scenario, we can find similar **Users** or similar **Products**. \n",
    "<br> Let's find the similar Users and thus do some recommendations."
   ]
  },
  {
   "cell_type": "markdown",
   "metadata": {},
   "source": [
    "#### Get the list of orders that have been reordered before:"
   ]
  },
  {
   "cell_type": "code",
   "execution_count": 15,
   "metadata": {},
   "outputs": [],
   "source": [
    "# get the list of orders that have been reordered before\n",
    "df_reorders = df_merged_order_products_prior[df_merged_order_products_prior['reordered'] == 1]"
   ]
  },
  {
   "cell_type": "markdown",
   "metadata": {},
   "source": [
    "#### Filter out the high volumn products that user reordered more than once:"
   ]
  },
  {
   "cell_type": "code",
   "execution_count": 16,
   "metadata": {},
   "outputs": [],
   "source": [
    "df_reorders['high_volume'] = (df_reorders['product_id'].value_counts().sort_values(ascending=False)>1)"
   ]
  },
  {
   "cell_type": "markdown",
   "metadata": {},
   "source": [
    "#### Get orderwise user details"
   ]
  },
  {
   "cell_type": "code",
   "execution_count": 17,
   "metadata": {},
   "outputs": [],
   "source": [
    "orders = df_orders[['order_id', 'user_id']]"
   ]
  },
  {
   "cell_type": "markdown",
   "metadata": {},
   "source": [
    "#### Merge to get user_id and product_id"
   ]
  },
  {
   "cell_type": "code",
   "execution_count": 18,
   "metadata": {},
   "outputs": [],
   "source": [
    "user_orders = df_reorders.merge(orders, on='order_id')"
   ]
  },
  {
   "cell_type": "markdown",
   "metadata": {},
   "source": [
    "#### Get High Volume Orders"
   ]
  },
  {
   "cell_type": "code",
   "execution_count": 19,
   "metadata": {},
   "outputs": [
    {
     "data": {
      "text/html": [
       "<div>\n",
       "<style scoped>\n",
       "    .dataframe tbody tr th:only-of-type {\n",
       "        vertical-align: middle;\n",
       "    }\n",
       "\n",
       "    .dataframe tbody tr th {\n",
       "        vertical-align: top;\n",
       "    }\n",
       "\n",
       "    .dataframe thead th {\n",
       "        text-align: right;\n",
       "    }\n",
       "</style>\n",
       "<table border=\"1\" class=\"dataframe\">\n",
       "  <thead>\n",
       "    <tr style=\"text-align: right;\">\n",
       "      <th></th>\n",
       "      <th>order_id</th>\n",
       "      <th>product_id</th>\n",
       "      <th>add_to_cart_order</th>\n",
       "      <th>reordered</th>\n",
       "      <th>product_name</th>\n",
       "      <th>aisle_id</th>\n",
       "      <th>department_id</th>\n",
       "      <th>department</th>\n",
       "      <th>high_volume</th>\n",
       "      <th>user_id</th>\n",
       "    </tr>\n",
       "  </thead>\n",
       "  <tbody>\n",
       "    <tr>\n",
       "      <th>1</th>\n",
       "      <td>2</td>\n",
       "      <td>28985</td>\n",
       "      <td>2</td>\n",
       "      <td>1</td>\n",
       "      <td>Michigan Organic Kale</td>\n",
       "      <td>83</td>\n",
       "      <td>4</td>\n",
       "      <td>produce</td>\n",
       "      <td>True</td>\n",
       "      <td>202279</td>\n",
       "    </tr>\n",
       "    <tr>\n",
       "      <th>2</th>\n",
       "      <td>2</td>\n",
       "      <td>45918</td>\n",
       "      <td>4</td>\n",
       "      <td>1</td>\n",
       "      <td>Coconut Butter</td>\n",
       "      <td>19</td>\n",
       "      <td>13</td>\n",
       "      <td>pantry</td>\n",
       "      <td>True</td>\n",
       "      <td>202279</td>\n",
       "    </tr>\n",
       "    <tr>\n",
       "      <th>3</th>\n",
       "      <td>2</td>\n",
       "      <td>17794</td>\n",
       "      <td>6</td>\n",
       "      <td>1</td>\n",
       "      <td>Carrots</td>\n",
       "      <td>83</td>\n",
       "      <td>4</td>\n",
       "      <td>produce</td>\n",
       "      <td>True</td>\n",
       "      <td>202279</td>\n",
       "    </tr>\n",
       "    <tr>\n",
       "      <th>4</th>\n",
       "      <td>2</td>\n",
       "      <td>40141</td>\n",
       "      <td>7</td>\n",
       "      <td>1</td>\n",
       "      <td>Original Unflavored Gelatine Mix</td>\n",
       "      <td>105</td>\n",
       "      <td>13</td>\n",
       "      <td>pantry</td>\n",
       "      <td>True</td>\n",
       "      <td>202279</td>\n",
       "    </tr>\n",
       "    <tr>\n",
       "      <th>5</th>\n",
       "      <td>2</td>\n",
       "      <td>1819</td>\n",
       "      <td>8</td>\n",
       "      <td>1</td>\n",
       "      <td>All Natural No Stir Creamy Almond Butter</td>\n",
       "      <td>88</td>\n",
       "      <td>13</td>\n",
       "      <td>pantry</td>\n",
       "      <td>True</td>\n",
       "      <td>202279</td>\n",
       "    </tr>\n",
       "  </tbody>\n",
       "</table>\n",
       "</div>"
      ],
      "text/plain": [
       "   order_id  product_id  add_to_cart_order  reordered  \\\n",
       "1         2       28985                  2          1   \n",
       "2         2       45918                  4          1   \n",
       "3         2       17794                  6          1   \n",
       "4         2       40141                  7          1   \n",
       "5         2        1819                  8          1   \n",
       "\n",
       "                               product_name  aisle_id  department_id  \\\n",
       "1                     Michigan Organic Kale        83              4   \n",
       "2                            Coconut Butter        19             13   \n",
       "3                                   Carrots        83              4   \n",
       "4          Original Unflavored Gelatine Mix       105             13   \n",
       "5  All Natural No Stir Creamy Almond Butter        88             13   \n",
       "\n",
       "  department high_volume  user_id  \n",
       "1    produce        True   202279  \n",
       "2     pantry        True   202279  \n",
       "3    produce        True   202279  \n",
       "4     pantry        True   202279  \n",
       "5     pantry        True   202279  "
      ]
     },
     "execution_count": 19,
     "metadata": {},
     "output_type": "execute_result"
    }
   ],
   "source": [
    "df_high_volume = user_orders[user_orders['high_volume'] == True]\n",
    "df_high_volume.head()"
   ]
  },
  {
   "cell_type": "markdown",
   "metadata": {},
   "source": [
    "#### Get a matrix of different high volume items that a particular user purchased:"
   ]
  },
  {
   "cell_type": "code",
   "execution_count": 20,
   "metadata": {},
   "outputs": [],
   "source": [
    "df_high_volume_users = df_high_volume.groupby(['user_id', 'product_name']).size().sort_values(ascending=False).unstack().fillna(0)"
   ]
  },
  {
   "cell_type": "markdown",
   "metadata": {},
   "source": [
    "Now, Let's take a look at the user and product matrix."
   ]
  },
  {
   "cell_type": "code",
   "execution_count": 21,
   "metadata": {},
   "outputs": [
    {
     "data": {
      "text/html": [
       "<div>\n",
       "<style scoped>\n",
       "    .dataframe tbody tr th:only-of-type {\n",
       "        vertical-align: middle;\n",
       "    }\n",
       "\n",
       "    .dataframe tbody tr th {\n",
       "        vertical-align: top;\n",
       "    }\n",
       "\n",
       "    .dataframe thead th {\n",
       "        text-align: right;\n",
       "    }\n",
       "</style>\n",
       "<table border=\"1\" class=\"dataframe\">\n",
       "  <thead>\n",
       "    <tr style=\"text-align: right;\">\n",
       "      <th>product_name</th>\n",
       "      <th>0% Fat Blueberry Greek Yogurt</th>\n",
       "      <th>0% Fat Free Organic Milk</th>\n",
       "      <th>0% Fat Organic Greek Vanilla Yogurt</th>\n",
       "      <th>0% Greek Strained Yogurt</th>\n",
       "      <th>0% Greek Yogurt Black Cherry on the Bottom</th>\n",
       "      <th>0% Greek, Blueberry on the Bottom Yogurt</th>\n",
       "      <th>1 Apple + 1 Mango Fruit Bar</th>\n",
       "      <th>1 Apple + 1 Pear Fruit Bar</th>\n",
       "      <th>1 Liter</th>\n",
       "      <th>1 Ply Paper Towels</th>\n",
       "      <th>...</th>\n",
       "      <th>Zingers Cakes</th>\n",
       "      <th>Zucchini Banana &amp; Amaranth Organic Baby Food</th>\n",
       "      <th>Zucchini Gingerbread Carrot Smart Cookies</th>\n",
       "      <th>Zucchini Noodles</th>\n",
       "      <th>in Gravy with Carrots Peas &amp; Corn Mashed Potatoes &amp; Meatloaf Nuggets</th>\n",
       "      <th>of Hanover 100 Calorie Pretzels Mini</th>\n",
       "      <th>smartwater® Electrolyte Enhanced Water</th>\n",
       "      <th>vitaminwater® XXX Acai Blueberry Pomegranate</th>\n",
       "      <th>with Crispy Almonds Cereal</th>\n",
       "      <th>with Olive Oil Mayonnaise</th>\n",
       "    </tr>\n",
       "    <tr>\n",
       "      <th>user_id</th>\n",
       "      <th></th>\n",
       "      <th></th>\n",
       "      <th></th>\n",
       "      <th></th>\n",
       "      <th></th>\n",
       "      <th></th>\n",
       "      <th></th>\n",
       "      <th></th>\n",
       "      <th></th>\n",
       "      <th></th>\n",
       "      <th></th>\n",
       "      <th></th>\n",
       "      <th></th>\n",
       "      <th></th>\n",
       "      <th></th>\n",
       "      <th></th>\n",
       "      <th></th>\n",
       "      <th></th>\n",
       "      <th></th>\n",
       "      <th></th>\n",
       "      <th></th>\n",
       "    </tr>\n",
       "  </thead>\n",
       "  <tbody>\n",
       "    <tr>\n",
       "      <th>66</th>\n",
       "      <td>0.0</td>\n",
       "      <td>0.0</td>\n",
       "      <td>0.0</td>\n",
       "      <td>0.0</td>\n",
       "      <td>0.0</td>\n",
       "      <td>0.0</td>\n",
       "      <td>0.0</td>\n",
       "      <td>0.0</td>\n",
       "      <td>0.0</td>\n",
       "      <td>0.0</td>\n",
       "      <td>...</td>\n",
       "      <td>0.0</td>\n",
       "      <td>0.0</td>\n",
       "      <td>0.0</td>\n",
       "      <td>0.0</td>\n",
       "      <td>0.0</td>\n",
       "      <td>0.0</td>\n",
       "      <td>0.0</td>\n",
       "      <td>0.0</td>\n",
       "      <td>0.0</td>\n",
       "      <td>0.0</td>\n",
       "    </tr>\n",
       "    <tr>\n",
       "      <th>90</th>\n",
       "      <td>0.0</td>\n",
       "      <td>0.0</td>\n",
       "      <td>0.0</td>\n",
       "      <td>0.0</td>\n",
       "      <td>0.0</td>\n",
       "      <td>0.0</td>\n",
       "      <td>0.0</td>\n",
       "      <td>0.0</td>\n",
       "      <td>0.0</td>\n",
       "      <td>0.0</td>\n",
       "      <td>...</td>\n",
       "      <td>0.0</td>\n",
       "      <td>0.0</td>\n",
       "      <td>0.0</td>\n",
       "      <td>0.0</td>\n",
       "      <td>0.0</td>\n",
       "      <td>0.0</td>\n",
       "      <td>0.0</td>\n",
       "      <td>0.0</td>\n",
       "      <td>0.0</td>\n",
       "      <td>0.0</td>\n",
       "    </tr>\n",
       "    <tr>\n",
       "      <th>150</th>\n",
       "      <td>0.0</td>\n",
       "      <td>0.0</td>\n",
       "      <td>0.0</td>\n",
       "      <td>0.0</td>\n",
       "      <td>0.0</td>\n",
       "      <td>0.0</td>\n",
       "      <td>0.0</td>\n",
       "      <td>0.0</td>\n",
       "      <td>0.0</td>\n",
       "      <td>0.0</td>\n",
       "      <td>...</td>\n",
       "      <td>0.0</td>\n",
       "      <td>0.0</td>\n",
       "      <td>0.0</td>\n",
       "      <td>0.0</td>\n",
       "      <td>0.0</td>\n",
       "      <td>0.0</td>\n",
       "      <td>0.0</td>\n",
       "      <td>0.0</td>\n",
       "      <td>0.0</td>\n",
       "      <td>0.0</td>\n",
       "    </tr>\n",
       "    <tr>\n",
       "      <th>206</th>\n",
       "      <td>0.0</td>\n",
       "      <td>0.0</td>\n",
       "      <td>0.0</td>\n",
       "      <td>0.0</td>\n",
       "      <td>0.0</td>\n",
       "      <td>0.0</td>\n",
       "      <td>0.0</td>\n",
       "      <td>0.0</td>\n",
       "      <td>0.0</td>\n",
       "      <td>0.0</td>\n",
       "      <td>...</td>\n",
       "      <td>0.0</td>\n",
       "      <td>0.0</td>\n",
       "      <td>0.0</td>\n",
       "      <td>0.0</td>\n",
       "      <td>0.0</td>\n",
       "      <td>0.0</td>\n",
       "      <td>0.0</td>\n",
       "      <td>0.0</td>\n",
       "      <td>0.0</td>\n",
       "      <td>0.0</td>\n",
       "    </tr>\n",
       "    <tr>\n",
       "      <th>208</th>\n",
       "      <td>0.0</td>\n",
       "      <td>0.0</td>\n",
       "      <td>0.0</td>\n",
       "      <td>0.0</td>\n",
       "      <td>0.0</td>\n",
       "      <td>0.0</td>\n",
       "      <td>0.0</td>\n",
       "      <td>0.0</td>\n",
       "      <td>0.0</td>\n",
       "      <td>0.0</td>\n",
       "      <td>...</td>\n",
       "      <td>0.0</td>\n",
       "      <td>0.0</td>\n",
       "      <td>0.0</td>\n",
       "      <td>0.0</td>\n",
       "      <td>0.0</td>\n",
       "      <td>0.0</td>\n",
       "      <td>0.0</td>\n",
       "      <td>0.0</td>\n",
       "      <td>0.0</td>\n",
       "      <td>0.0</td>\n",
       "    </tr>\n",
       "  </tbody>\n",
       "</table>\n",
       "<p>5 rows × 7048 columns</p>\n",
       "</div>"
      ],
      "text/plain": [
       "product_name  0% Fat Blueberry Greek Yogurt  0% Fat Free Organic Milk  \\\n",
       "user_id                                                                 \n",
       "66                                      0.0                       0.0   \n",
       "90                                      0.0                       0.0   \n",
       "150                                     0.0                       0.0   \n",
       "206                                     0.0                       0.0   \n",
       "208                                     0.0                       0.0   \n",
       "\n",
       "product_name  0% Fat Organic Greek Vanilla Yogurt  0% Greek Strained Yogurt  \\\n",
       "user_id                                                                       \n",
       "66                                            0.0                       0.0   \n",
       "90                                            0.0                       0.0   \n",
       "150                                           0.0                       0.0   \n",
       "206                                           0.0                       0.0   \n",
       "208                                           0.0                       0.0   \n",
       "\n",
       "product_name  0% Greek Yogurt Black Cherry on the Bottom  \\\n",
       "user_id                                                    \n",
       "66                                                   0.0   \n",
       "90                                                   0.0   \n",
       "150                                                  0.0   \n",
       "206                                                  0.0   \n",
       "208                                                  0.0   \n",
       "\n",
       "product_name  0% Greek, Blueberry on the Bottom Yogurt  \\\n",
       "user_id                                                  \n",
       "66                                                 0.0   \n",
       "90                                                 0.0   \n",
       "150                                                0.0   \n",
       "206                                                0.0   \n",
       "208                                                0.0   \n",
       "\n",
       "product_name  1 Apple + 1 Mango Fruit Bar  1 Apple + 1 Pear Fruit Bar  \\\n",
       "user_id                                                                 \n",
       "66                                    0.0                         0.0   \n",
       "90                                    0.0                         0.0   \n",
       "150                                   0.0                         0.0   \n",
       "206                                   0.0                         0.0   \n",
       "208                                   0.0                         0.0   \n",
       "\n",
       "product_name  1 Liter  1 Ply Paper Towels            ...              \\\n",
       "user_id                                              ...               \n",
       "66                0.0                 0.0            ...               \n",
       "90                0.0                 0.0            ...               \n",
       "150               0.0                 0.0            ...               \n",
       "206               0.0                 0.0            ...               \n",
       "208               0.0                 0.0            ...               \n",
       "\n",
       "product_name  Zingers Cakes  Zucchini Banana & Amaranth Organic Baby Food  \\\n",
       "user_id                                                                     \n",
       "66                      0.0                                           0.0   \n",
       "90                      0.0                                           0.0   \n",
       "150                     0.0                                           0.0   \n",
       "206                     0.0                                           0.0   \n",
       "208                     0.0                                           0.0   \n",
       "\n",
       "product_name  Zucchini Gingerbread Carrot Smart Cookies  Zucchini Noodles  \\\n",
       "user_id                                                                     \n",
       "66                                                  0.0               0.0   \n",
       "90                                                  0.0               0.0   \n",
       "150                                                 0.0               0.0   \n",
       "206                                                 0.0               0.0   \n",
       "208                                                 0.0               0.0   \n",
       "\n",
       "product_name  in Gravy with Carrots Peas & Corn Mashed Potatoes & Meatloaf Nuggets  \\\n",
       "user_id                                                                              \n",
       "66                                                          0.0                      \n",
       "90                                                          0.0                      \n",
       "150                                                         0.0                      \n",
       "206                                                         0.0                      \n",
       "208                                                         0.0                      \n",
       "\n",
       "product_name  of Hanover 100 Calorie Pretzels Mini  \\\n",
       "user_id                                              \n",
       "66                                             0.0   \n",
       "90                                             0.0   \n",
       "150                                            0.0   \n",
       "206                                            0.0   \n",
       "208                                            0.0   \n",
       "\n",
       "product_name  smartwater® Electrolyte Enhanced Water  \\\n",
       "user_id                                                \n",
       "66                                               0.0   \n",
       "90                                               0.0   \n",
       "150                                              0.0   \n",
       "206                                              0.0   \n",
       "208                                              0.0   \n",
       "\n",
       "product_name  vitaminwater® XXX Acai Blueberry Pomegranate  \\\n",
       "user_id                                                      \n",
       "66                                                     0.0   \n",
       "90                                                     0.0   \n",
       "150                                                    0.0   \n",
       "206                                                    0.0   \n",
       "208                                                    0.0   \n",
       "\n",
       "product_name  with Crispy Almonds Cereal  with Olive Oil Mayonnaise  \n",
       "user_id                                                              \n",
       "66                                   0.0                        0.0  \n",
       "90                                   0.0                        0.0  \n",
       "150                                  0.0                        0.0  \n",
       "206                                  0.0                        0.0  \n",
       "208                                  0.0                        0.0  \n",
       "\n",
       "[5 rows x 7048 columns]"
      ]
     },
     "execution_count": 21,
     "metadata": {},
     "output_type": "execute_result"
    }
   ],
   "source": [
    "df_high_volume_users.head()"
   ]
  },
  {
   "cell_type": "markdown",
   "metadata": {},
   "source": [
    "#### Calculate Similarity between each User:"
   ]
  },
  {
   "cell_type": "code",
   "execution_count": 22,
   "metadata": {},
   "outputs": [
    {
     "data": {
      "text/html": [
       "<div>\n",
       "<style scoped>\n",
       "    .dataframe tbody tr th:only-of-type {\n",
       "        vertical-align: middle;\n",
       "    }\n",
       "\n",
       "    .dataframe tbody tr th {\n",
       "        vertical-align: top;\n",
       "    }\n",
       "\n",
       "    .dataframe thead th {\n",
       "        text-align: right;\n",
       "    }\n",
       "</style>\n",
       "<table border=\"1\" class=\"dataframe\">\n",
       "  <thead>\n",
       "    <tr style=\"text-align: right;\">\n",
       "      <th>user_id</th>\n",
       "      <th>66</th>\n",
       "      <th>90</th>\n",
       "      <th>150</th>\n",
       "      <th>206</th>\n",
       "      <th>208</th>\n",
       "      <th>222</th>\n",
       "      <th>382</th>\n",
       "      <th>451</th>\n",
       "      <th>503</th>\n",
       "      <th>508</th>\n",
       "      <th>...</th>\n",
       "      <th>205787</th>\n",
       "      <th>205794</th>\n",
       "      <th>205888</th>\n",
       "      <th>205908</th>\n",
       "      <th>205943</th>\n",
       "      <th>205970</th>\n",
       "      <th>205990</th>\n",
       "      <th>206105</th>\n",
       "      <th>206162</th>\n",
       "      <th>206206</th>\n",
       "    </tr>\n",
       "    <tr>\n",
       "      <th>user_id</th>\n",
       "      <th></th>\n",
       "      <th></th>\n",
       "      <th></th>\n",
       "      <th></th>\n",
       "      <th></th>\n",
       "      <th></th>\n",
       "      <th></th>\n",
       "      <th></th>\n",
       "      <th></th>\n",
       "      <th></th>\n",
       "      <th></th>\n",
       "      <th></th>\n",
       "      <th></th>\n",
       "      <th></th>\n",
       "      <th></th>\n",
       "      <th></th>\n",
       "      <th></th>\n",
       "      <th></th>\n",
       "      <th></th>\n",
       "      <th></th>\n",
       "      <th></th>\n",
       "    </tr>\n",
       "  </thead>\n",
       "  <tbody>\n",
       "    <tr>\n",
       "      <th>66</th>\n",
       "      <td>1.0</td>\n",
       "      <td>0.0</td>\n",
       "      <td>0.0</td>\n",
       "      <td>0.0</td>\n",
       "      <td>0.0</td>\n",
       "      <td>0.0</td>\n",
       "      <td>0.0</td>\n",
       "      <td>0.0</td>\n",
       "      <td>0.0</td>\n",
       "      <td>0.0</td>\n",
       "      <td>...</td>\n",
       "      <td>0.00</td>\n",
       "      <td>0.0</td>\n",
       "      <td>0.0</td>\n",
       "      <td>0.000000</td>\n",
       "      <td>0.0</td>\n",
       "      <td>0.0</td>\n",
       "      <td>0.0</td>\n",
       "      <td>0.0</td>\n",
       "      <td>0.0</td>\n",
       "      <td>0.0</td>\n",
       "    </tr>\n",
       "    <tr>\n",
       "      <th>90</th>\n",
       "      <td>0.0</td>\n",
       "      <td>1.0</td>\n",
       "      <td>0.0</td>\n",
       "      <td>0.0</td>\n",
       "      <td>0.0</td>\n",
       "      <td>0.0</td>\n",
       "      <td>0.0</td>\n",
       "      <td>0.0</td>\n",
       "      <td>0.0</td>\n",
       "      <td>0.0</td>\n",
       "      <td>...</td>\n",
       "      <td>0.00</td>\n",
       "      <td>0.0</td>\n",
       "      <td>0.0</td>\n",
       "      <td>0.000000</td>\n",
       "      <td>0.0</td>\n",
       "      <td>0.0</td>\n",
       "      <td>0.0</td>\n",
       "      <td>0.0</td>\n",
       "      <td>0.0</td>\n",
       "      <td>0.0</td>\n",
       "    </tr>\n",
       "    <tr>\n",
       "      <th>150</th>\n",
       "      <td>0.0</td>\n",
       "      <td>0.0</td>\n",
       "      <td>1.0</td>\n",
       "      <td>0.0</td>\n",
       "      <td>0.0</td>\n",
       "      <td>0.0</td>\n",
       "      <td>0.0</td>\n",
       "      <td>0.0</td>\n",
       "      <td>0.0</td>\n",
       "      <td>0.0</td>\n",
       "      <td>...</td>\n",
       "      <td>0.00</td>\n",
       "      <td>0.0</td>\n",
       "      <td>0.0</td>\n",
       "      <td>0.000000</td>\n",
       "      <td>0.0</td>\n",
       "      <td>0.0</td>\n",
       "      <td>0.0</td>\n",
       "      <td>0.0</td>\n",
       "      <td>0.0</td>\n",
       "      <td>0.0</td>\n",
       "    </tr>\n",
       "    <tr>\n",
       "      <th>206</th>\n",
       "      <td>0.0</td>\n",
       "      <td>0.0</td>\n",
       "      <td>0.0</td>\n",
       "      <td>1.0</td>\n",
       "      <td>0.0</td>\n",
       "      <td>0.0</td>\n",
       "      <td>0.0</td>\n",
       "      <td>0.0</td>\n",
       "      <td>0.0</td>\n",
       "      <td>0.0</td>\n",
       "      <td>...</td>\n",
       "      <td>0.25</td>\n",
       "      <td>0.0</td>\n",
       "      <td>0.0</td>\n",
       "      <td>0.353553</td>\n",
       "      <td>0.0</td>\n",
       "      <td>0.0</td>\n",
       "      <td>0.0</td>\n",
       "      <td>0.0</td>\n",
       "      <td>0.0</td>\n",
       "      <td>0.0</td>\n",
       "    </tr>\n",
       "    <tr>\n",
       "      <th>208</th>\n",
       "      <td>0.0</td>\n",
       "      <td>0.0</td>\n",
       "      <td>0.0</td>\n",
       "      <td>0.0</td>\n",
       "      <td>1.0</td>\n",
       "      <td>0.0</td>\n",
       "      <td>0.0</td>\n",
       "      <td>0.0</td>\n",
       "      <td>0.0</td>\n",
       "      <td>0.0</td>\n",
       "      <td>...</td>\n",
       "      <td>0.00</td>\n",
       "      <td>0.0</td>\n",
       "      <td>0.0</td>\n",
       "      <td>0.000000</td>\n",
       "      <td>0.0</td>\n",
       "      <td>0.0</td>\n",
       "      <td>0.0</td>\n",
       "      <td>0.0</td>\n",
       "      <td>0.0</td>\n",
       "      <td>0.0</td>\n",
       "    </tr>\n",
       "  </tbody>\n",
       "</table>\n",
       "<p>5 rows × 4167 columns</p>\n",
       "</div>"
      ],
      "text/plain": [
       "user_id  66      90      150     206     208     222     382     451     \\\n",
       "user_id                                                                   \n",
       "66          1.0     0.0     0.0     0.0     0.0     0.0     0.0     0.0   \n",
       "90          0.0     1.0     0.0     0.0     0.0     0.0     0.0     0.0   \n",
       "150         0.0     0.0     1.0     0.0     0.0     0.0     0.0     0.0   \n",
       "206         0.0     0.0     0.0     1.0     0.0     0.0     0.0     0.0   \n",
       "208         0.0     0.0     0.0     0.0     1.0     0.0     0.0     0.0   \n",
       "\n",
       "user_id  503     508      ...    205787  205794  205888    205908  205943  \\\n",
       "user_id                   ...                                               \n",
       "66          0.0     0.0   ...      0.00     0.0     0.0  0.000000     0.0   \n",
       "90          0.0     0.0   ...      0.00     0.0     0.0  0.000000     0.0   \n",
       "150         0.0     0.0   ...      0.00     0.0     0.0  0.000000     0.0   \n",
       "206         0.0     0.0   ...      0.25     0.0     0.0  0.353553     0.0   \n",
       "208         0.0     0.0   ...      0.00     0.0     0.0  0.000000     0.0   \n",
       "\n",
       "user_id  205970  205990  206105  206162  206206  \n",
       "user_id                                          \n",
       "66          0.0     0.0     0.0     0.0     0.0  \n",
       "90          0.0     0.0     0.0     0.0     0.0  \n",
       "150         0.0     0.0     0.0     0.0     0.0  \n",
       "206         0.0     0.0     0.0     0.0     0.0  \n",
       "208         0.0     0.0     0.0     0.0     0.0  \n",
       "\n",
       "[5 rows x 4167 columns]"
      ]
     },
     "execution_count": 22,
     "metadata": {},
     "output_type": "execute_result"
    }
   ],
   "source": [
    "# calculate similarity between each user\n",
    "cosine_dists = pd.DataFrame(cosine_similarity(df_high_volume_users),index=df_high_volume_users.index,\n",
    "                            columns=df_high_volume_users.index)\n",
    "cosine_dists.head()"
   ]
  },
  {
   "cell_type": "markdown",
   "metadata": {},
   "source": [
    "The cosine of a 0 degree angle is 1. Therefore, if the value is closer to 1, the more similar the items are.\n",
    "<br><br>Now, let's define a function for the Recommendation System. We will recommend items based on similar profiles that have similar purchase history as our target customer."
   ]
  },
  {
   "cell_type": "code",
   "execution_count": 23,
   "metadata": {},
   "outputs": [],
   "source": [
    "def Cos_Similarity_Recommender(df, user_id,count):\n",
    "    \n",
    "    '''\n",
    "    enter user_id and return a list of some recommendations.\n",
    "    '''\n",
    "    p = df.groupby(['product_name','user_id']).size().sort_values(ascending=False).unstack().fillna(0)\n",
    "    \n",
    "    recommendations = pd.DataFrame(np.dot(p.values,cosine_dists[user_id]), index=p.index)\n",
    "    recommendations = recommendations.reset_index()\n",
    "    recommendations.columns = ['product_name','value']\n",
    "    return recommendations.sort_values('value', ascending=False).head(count)"
   ]
  },
  {
   "cell_type": "markdown",
   "metadata": {},
   "source": [
    "Now, it is time for some recommendation using the **Cosine Similarity** Model prepared above. "
   ]
  },
  {
   "cell_type": "markdown",
   "metadata": {},
   "source": [
    "#### Recommendation for customer# 90"
   ]
  },
  {
   "cell_type": "code",
   "execution_count": 24,
   "metadata": {},
   "outputs": [
    {
     "name": "stdout",
     "output_type": "stream",
     "text": [
      "Recommended Products for User :  90\n",
      "=======================================\n",
      "                                       product_name     value\n",
      "1922         Flax Plus Organic Pumpkin Flax Granola  1.986900\n",
      "6228          Sweet & Salty Nut Almond Granola Bars  1.519338\n",
      "4998                     Peach-Pear Sparkling Water  1.411001\n",
      "6022        Sparkling Water, Natural Mango Essenced  1.347096\n",
      "4147                 Organic Heritage Flakes Cereal  1.336255\n",
      "2505  Healthy Grains Granola Bar, Vanilla Blueberry  1.219491\n",
      "4355       Organic Pink Lemonade Bunny Fruit Snacks  1.102062\n",
      "1560                           Dark Chocolate Minis  1.000000\n",
      "439                                          Banana  0.753806\n",
      "2923                          Lemon Sparkling Water  0.480727\n"
     ]
    }
   ],
   "source": [
    "# recommendation for customer id 90\n",
    "user_id = 90\n",
    "print(\"Recommended Products for User : \",user_id )\n",
    "print(\"=======================================\")\n",
    "print(Cos_Similarity_Recommender(df_high_volume,user_id,10))"
   ]
  },
  {
   "cell_type": "markdown",
   "metadata": {},
   "source": [
    "Now, let's define a function to find out the items actually bought by the customer."
   ]
  },
  {
   "cell_type": "code",
   "execution_count": 25,
   "metadata": {},
   "outputs": [],
   "source": [
    "def actual_purchased(df_test, user_id):\n",
    "    '''\n",
    "    enter user_id and return a list of the actual purchase of the user.\n",
    "    '''\n",
    "    df = list(df_test[df_test.user_id == user_id]['product_name'].unique())\n",
    "    return df"
   ]
  },
  {
   "cell_type": "markdown",
   "metadata": {},
   "source": [
    "#### Actual Products Purchased by Customer#90"
   ]
  },
  {
   "cell_type": "code",
   "execution_count": 26,
   "metadata": {},
   "outputs": [],
   "source": [
    "df_test = df_merged_order_products_train.merge(orders, on='order_id')"
   ]
  },
  {
   "cell_type": "code",
   "execution_count": 27,
   "metadata": {},
   "outputs": [
    {
     "name": "stdout",
     "output_type": "stream",
     "text": [
      "Atual Products Purchased by User:  90\n",
      "=======================================\n",
      "['Sea Salt Soiree Intense Dark Chocolate Squares', 'Gluten Free Honey Almond Granola', 'Organic Graham Crunch Cereal', 'Organic Heritage Flakes Cereal', \"Annie's Bunny Fruit Snacks Variety\"]\n"
     ]
    }
   ],
   "source": [
    "user_id = 90\n",
    "print(\"Atual Products Purchased by User: \",user_id )\n",
    "print(\"=======================================\")\n",
    "print(actual_purchased(df_test,user_id))"
   ]
  },
  {
   "cell_type": "markdown",
   "metadata": {},
   "source": [
    "Interestingly, the Customer#90 has ordered some cereals and fruit snacks. \n",
    "<br>He was recommneded varieties of cereal and some granola and \"Organic Pink Lemonade Bunny Fruit Snacks\" by the above Model."
   ]
  },
  {
   "cell_type": "markdown",
   "metadata": {},
   "source": [
    "###  Model 2: Matrix Factorization using ALS (Alternating Least Squares)"
   ]
  },
  {
   "cell_type": "markdown",
   "metadata": {},
   "source": [
    "**Alternating Least Squares (ALS):** \n",
    "Alternating Least Squares (ALS) is a the model we’ll use to fit our data and find similarities. ALS uses Matrix Factorization method for recommendations.\n",
    "\n",
    "**Matrix Factorization:** The idea is to take a large matrix and factor it into some smaller representation of the original matrix.  \n",
    "<br>We have an original matrix R of size **MxN**, where M is the number of users and N is the number of items. This matrix is quite sparse, since most users only interact with a few items each. We can factorize this matrix into two separate smaller matrices: one with dimensions **MxK** which will be our latent user feature vectors for each user (U) and a second with dimensions **KxN**, which will have our latent item feature vectors for each item (V). Multiplying these two feature matrices together approximates the original matrix, but now we have two matrices that are dense including a number of latent features K for each of our items and users.We calculate U and V so that their product approximates R as closely as possible: **R ≈ U x V.**"
   ]
  },
  {
   "cell_type": "markdown",
   "metadata": {},
   "source": [
    "### Prepare the Data"
   ]
  },
  {
   "cell_type": "code",
   "execution_count": 28,
   "metadata": {},
   "outputs": [],
   "source": [
    "# Training Dataset Based on Reordered Quantity\n",
    "data = df_merged_order_products_prior.merge(orders, on='order_id')\n",
    "data = data[[\"user_id\", \"product_id\",\"product_name\",\"reordered\"]]\n",
    "data = data.groupby([\"user_id\", \"product_id\",\"product_name\"])['reordered'].sum().reset_index()"
   ]
  },
  {
   "cell_type": "code",
   "execution_count": 29,
   "metadata": {},
   "outputs": [
    {
     "data": {
      "text/html": [
       "<div>\n",
       "<style scoped>\n",
       "    .dataframe tbody tr th:only-of-type {\n",
       "        vertical-align: middle;\n",
       "    }\n",
       "\n",
       "    .dataframe tbody tr th {\n",
       "        vertical-align: top;\n",
       "    }\n",
       "\n",
       "    .dataframe thead th {\n",
       "        text-align: right;\n",
       "    }\n",
       "</style>\n",
       "<table border=\"1\" class=\"dataframe\">\n",
       "  <thead>\n",
       "    <tr style=\"text-align: right;\">\n",
       "      <th></th>\n",
       "      <th>user_id</th>\n",
       "      <th>product_id</th>\n",
       "      <th>product_name</th>\n",
       "      <th>reordered</th>\n",
       "      <th>prev_product_id</th>\n",
       "    </tr>\n",
       "  </thead>\n",
       "  <tbody>\n",
       "    <tr>\n",
       "      <th>0</th>\n",
       "      <td>0</td>\n",
       "      <td>195</td>\n",
       "      <td>Soda</td>\n",
       "      <td>9</td>\n",
       "      <td>196</td>\n",
       "    </tr>\n",
       "    <tr>\n",
       "      <th>1</th>\n",
       "      <td>0</td>\n",
       "      <td>10254</td>\n",
       "      <td>Pistachios</td>\n",
       "      <td>8</td>\n",
       "      <td>10258</td>\n",
       "    </tr>\n",
       "    <tr>\n",
       "      <th>2</th>\n",
       "      <td>0</td>\n",
       "      <td>10322</td>\n",
       "      <td>Organic Fuji Apples</td>\n",
       "      <td>0</td>\n",
       "      <td>10326</td>\n",
       "    </tr>\n",
       "    <tr>\n",
       "      <th>3</th>\n",
       "      <td>0</td>\n",
       "      <td>12423</td>\n",
       "      <td>Original Beef Jerky</td>\n",
       "      <td>9</td>\n",
       "      <td>12427</td>\n",
       "    </tr>\n",
       "    <tr>\n",
       "      <th>4</th>\n",
       "      <td>0</td>\n",
       "      <td>13028</td>\n",
       "      <td>Cinnamon Toast Crunch</td>\n",
       "      <td>2</td>\n",
       "      <td>13032</td>\n",
       "    </tr>\n",
       "  </tbody>\n",
       "</table>\n",
       "</div>"
      ],
      "text/plain": [
       "   user_id  product_id           product_name  reordered  prev_product_id\n",
       "0        0         195                   Soda          9              196\n",
       "1        0       10254             Pistachios          8            10258\n",
       "2        0       10322    Organic Fuji Apples          0            10326\n",
       "3        0       12423    Original Beef Jerky          9            12427\n",
       "4        0       13028  Cinnamon Toast Crunch          2            13032"
      ]
     },
     "execution_count": 29,
     "metadata": {},
     "output_type": "execute_result"
    }
   ],
   "source": [
    "# Convert product id into category\n",
    "c = data.product_id.astype('category')\n",
    "d = dict(enumerate(c.cat.categories))\n",
    "#print (d)\n",
    "data[\"user_id\"] = data[\"user_id\"].astype(\"category\").cat.codes\n",
    "data[\"product_id\"] = data[\"product_id\"].astype(\"category\").cat.codes\n",
    "data['prev_product_id'] = data['product_id'].map(d)\n",
    "data[:5]"
   ]
  },
  {
   "cell_type": "markdown",
   "metadata": {},
   "source": [
    "The implicit library expects data as a item-user matrix. So, we create two matricies, one for fitting the model (item-user) and one for recommendations (user-item)"
   ]
  },
  {
   "cell_type": "markdown",
   "metadata": {},
   "source": [
    "#### Get a Compressed Sparse Row (CSR) Matrix"
   ]
  },
  {
   "cell_type": "code",
   "execution_count": 30,
   "metadata": {},
   "outputs": [],
   "source": [
    "# item_user matrix\n",
    "sparse_item_user = sparse.csr_matrix((data['reordered'].astype(float), (data['prev_product_id'], data['user_id'])))\n",
    "# user_item matrix\n",
    "sparse_user_item = sparse.csr_matrix((data['reordered'].astype(float), (data['user_id'], data['prev_product_id'])))"
   ]
  },
  {
   "cell_type": "markdown",
   "metadata": {},
   "source": [
    "#### Get a sparse matrix in COOrdinate format"
   ]
  },
  {
   "cell_type": "code",
   "execution_count": 31,
   "metadata": {},
   "outputs": [],
   "source": [
    "item_user_matrix = sparse.coo_matrix((data[\"reordered\"],\n",
    "                                            (data[\"product_id\"],\n",
    "                                             data[\"user_id\"])))\n",
    "# Contruct a sparse matrix for our users and items containing number of reordered\n",
    "item_user_matrix = item_user_matrix.tocsr()"
   ]
  },
  {
   "cell_type": "markdown",
   "metadata": {},
   "source": [
    "Let's check the sparsity of the matrix!"
   ]
  },
  {
   "cell_type": "code",
   "execution_count": 32,
   "metadata": {},
   "outputs": [
    {
     "data": {
      "text/plain": [
       "99.94801504451148"
      ]
     },
     "execution_count": 32,
     "metadata": {},
     "output_type": "execute_result"
    }
   ],
   "source": [
    "matrix_size = item_user_matrix.shape[0]*item_user_matrix.shape[1] # Number of possible interactions in the matrix\n",
    "num_purchases = len(item_user_matrix.nonzero()[0]) # Number of items interacted with\n",
    "sparsity = 100*(1 - (num_purchases/matrix_size))\n",
    "sparsity"
   ]
  },
  {
   "cell_type": "markdown",
   "metadata": {},
   "source": [
    "### Build an ALS Model"
   ]
  },
  {
   "cell_type": "code",
   "execution_count": 33,
   "metadata": {},
   "outputs": [],
   "source": [
    "def confidence_matrix(input_matrix, alpha):\n",
    "    \"\"\"\n",
    "    Given a utility matrix,\n",
    "    Returns the given matrix converted to a confidence matrix\n",
    "    \"\"\"\n",
    "    return (input_matrix * alpha).astype(\"double\")"
   ]
  },
  {
   "cell_type": "code",
   "execution_count": 34,
   "metadata": {},
   "outputs": [],
   "source": [
    "def implicit_als(input_matrix, **kwargs):\n",
    "    \"\"\"\n",
    "    Given the utility matrix and model parameters,\n",
    "    Builds models and writes it to disk \n",
    "    Args:\n",
    "    sparse_data (csr_matrix): Our sparse user-by-item matrix\n",
    "    alpha_val (int)         : The rate in which we'll increase our confidence in a preference with more interactions.\n",
    "    \n",
    "    \"\"\"\n",
    "    start = time.time()\n",
    "    \n",
    "    # Build model\n",
    "    print(\"Building ALS model with alpha: {} \".format(kwargs[\"alpha\"]))\n",
    "    model = AlternatingLeastSquares(factors=20, regularization=0.1, iterations=50)\n",
    "    #model.approximate_similar_items = True\n",
    "    \n",
    "    # Calculate the confidence by multiplying it by alpha value.\n",
    "    data_conf = confidence_matrix(input_matrix, kwargs[\"alpha\"])\n",
    "    \n",
    "    model.fit(data_conf)\n",
    "\n",
    "    # Save model to disk\n",
    "    filename = 'baseline_model.sav'\n",
    "    pickle.dump(model, open(filename, 'wb'))\n",
    "    \n",
    "    print(\"Completed in {:.2f}s\".format(time.time() - start))\n"
   ]
  },
  {
   "cell_type": "markdown",
   "metadata": {},
   "source": [
    "#### Call the Function to build the Model"
   ]
  },
  {
   "cell_type": "code",
   "execution_count": 35,
   "metadata": {},
   "outputs": [
    {
     "name": "stderr",
     "output_type": "stream",
     "text": [
      "WARNING:root:Intel MKL BLAS detected. Its highly recommend to set the environment variable 'export MKL_NUM_THREADS=1' to disable its internal multithreading\n"
     ]
    },
    {
     "name": "stdout",
     "output_type": "stream",
     "text": [
      "Building ALS model with alpha: 25 \n"
     ]
    },
    {
     "data": {
      "application/vnd.jupyter.widget-view+json": {
       "model_id": "f8a87478006b4d88ace1059ae27bea23",
       "version_major": 2,
       "version_minor": 0
      },
      "text/plain": [
       "HBox(children=(IntProgress(value=0, max=50), HTML(value='')))"
      ]
     },
     "metadata": {},
     "output_type": "display_data"
    },
    {
     "name": "stdout",
     "output_type": "stream",
     "text": [
      "\n",
      "Completed in 1299.64s\n"
     ]
    }
   ],
   "source": [
    "# Specify model params and build it\n",
    "## Alpha's in the range [10, 50] with a step size of 5 were tried. alpha = 25 was found to have the best overall \n",
    "## recall value. \n",
    "model_params = {\"alpha\": 25} \n",
    "\n",
    "# Build the Model\n",
    "implicit_als(item_user_matrix, **model_params)\n",
    "\n",
    "als_model = pickle.load(open('baseline_model.sav', 'rb'))"
   ]
  },
  {
   "cell_type": "markdown",
   "metadata": {},
   "source": [
    "#### Find Similar Items "
   ]
  },
  {
   "cell_type": "markdown",
   "metadata": {},
   "source": [
    "Let's see some similar items as recommneded by the ALS Model built above."
   ]
  },
  {
   "cell_type": "code",
   "execution_count": 36,
   "metadata": {},
   "outputs": [],
   "source": [
    "def find_similar_items(model,item_id,n_similar):\n",
    "    \"\"\"\n",
    "    Given an item, prints similar items\n",
    "    \"\"\"\n",
    "    product_id = []\n",
    "    product_name = []\n",
    "    scores = []\n",
    "    \n",
    "    similar =  model.similar_items(item_id, n_similar)\n",
    "    for item in similar:\n",
    "        idx, score = item\n",
    "\n",
    "        product_id.append(idx)\n",
    "        scores.append(score)\n",
    "        product_name.append(df_products.product_name.loc[df_products.product_id==idx].iloc[0])\n",
    "    print(\"Similar Items to Item: \",df_products.product_name.loc[df_products.product_id==item_id].iloc[0])\n",
    "    print(\"----------------------------------------------------------------------\")\n",
    "    print(list(product_name))"
   ]
  },
  {
   "cell_type": "code",
   "execution_count": 37,
   "metadata": {},
   "outputs": [
    {
     "name": "stdout",
     "output_type": "stream",
     "text": [
      "Similar Items to Item:  Organic Unsweetened Vanilla Almond Milk\n",
      "----------------------------------------------------------------------\n",
      "['Organic Unsweetened Vanilla Almond Milk', 'Organic Ranch Dressing', 'Beef Stroganoff Sauce Mix', 'Organic Cannellini Beans', 'Pomegranate Cherry Sparkling Seltzer Water', 'Chunky Hearty Bean and Ham Soup', 'Organic Garnet Sweet Potato (Yam)', 'Marinated Cabecou', \"Dunkin' Dark Roast Coffee Ground\", 'Rub with Love Salmon Rub']\n"
     ]
    }
   ],
   "source": [
    "find_similar_items(als_model,14084,10)"
   ]
  },
  {
   "cell_type": "markdown",
   "metadata": {},
   "source": [
    "**Conclusion:** It seems like the ALS Model returned some other organic products and Food related products which make sense to some extent."
   ]
  },
  {
   "cell_type": "markdown",
   "metadata": {},
   "source": [
    "#### Get Recommendations for Users"
   ]
  },
  {
   "cell_type": "markdown",
   "metadata": {},
   "source": [
    "Let’s examine the recommendations given to a particular user and see if the user has purchased any of the recommended products!"
   ]
  },
  {
   "cell_type": "code",
   "execution_count": 38,
   "metadata": {},
   "outputs": [],
   "source": [
    "def get_als_recommendations(model,user_id,n_count):\n",
    "    \"\"\"\n",
    "    Get Recommendations for users\n",
    "    \"\"\"\n",
    "    # Recommend items for a user \n",
    "    recommendations = model.recommend(user_id, sparse_user_item, N = n_count)\n",
    "    product_id = []\n",
    "    product_name = []\n",
    "    scores = []\n",
    "    for item in recommendations:\n",
    "        idx, score = item\n",
    "        pid = data.prev_product_id.loc[data.product_id == idx].iloc[0]\n",
    "        product_name.append(df_products.product_name.loc[df_products.product_id==pid].iloc[0])\n",
    "        #scores.append(score)\n",
    "    return (list(product_name))"
   ]
  },
  {
   "cell_type": "markdown",
   "metadata": {},
   "source": [
    "#### Get Recommendations for Customer# 90 using ALS"
   ]
  },
  {
   "cell_type": "code",
   "execution_count": 39,
   "metadata": {},
   "outputs": [
    {
     "name": "stdout",
     "output_type": "stream",
     "text": [
      "Recommended Prodcucts for user_id  90\n",
      "----------------------------------------------------------------------\n"
     ]
    },
    {
     "data": {
      "text/plain": [
       "['Organic Reduced Fat 2% Milk',\n",
       " 'Uncured Genoa Salami',\n",
       " 'Organic Large Brown Grade AA Cage Free Eggs',\n",
       " 'Organic Whole String Cheese',\n",
       " 'Organic Milk',\n",
       " 'Milk, Organic, Vitamin D',\n",
       " 'Hass Avocados',\n",
       " 'Mini Original Babybel Cheese',\n",
       " 'Organic Raspberries',\n",
       " 'Organic Half & Half']"
      ]
     },
     "execution_count": 39,
     "metadata": {},
     "output_type": "execute_result"
    }
   ],
   "source": [
    "# Let's test for user# 90\n",
    "print(\"Recommended Prodcucts for user_id \",user_id)\n",
    "print(\"----------------------------------------------------------------------\")   \n",
    "get_als_recommendations(als_model,90,10)"
   ]
  },
  {
   "cell_type": "markdown",
   "metadata": {},
   "source": [
    "## Compare & Analyze Recommendation Results"
   ]
  },
  {
   "cell_type": "markdown",
   "metadata": {},
   "source": [
    "| Actual Purchase   |      Model1_Recommendations      |  Model2_Recommendations |\n",
    "|----------|:-------------:|------:|\n",
    "| Organic Graham Crunch Cereal|Organic Heritage Flakes Cereal | Organic Reduced Fat 2% Milk |\n",
    "| Organic Heritage Flakes Cereal|Flax Plus Organic Pumpkin Flax Granola   |Organic Milk |\n",
    "| Gluten Free Honey Almond Granola | Healthy Grains Granola Bar, Vanilla Blueberry |  Milk, Organic, Vitamin D |\n",
    "| Sea Salt Soiree Intense Dark Chocolate Squares| Dark Chocolate Minis |Hass Avocados|\n",
    "| Annie's Bunny Fruit Snacks Variety| Organic Pink Lemonade Bunny Fruit Snacks|Organic Raspberries|\n",
    "|  NULL|      Sparkling Water, Natural Mango Essenced         |    Organic Large Brown Grade AA Cage Free Eggs| \n",
    "| NULL|Sweet & Salty Nut Almond Granola Bars |Organic Whole String Cheese|\n",
    "|NULL | Lemon Sparkling Water| Mini Original Babybel Cheese |\n",
    "|NULL|Banana|Uncured Genoa Salami|\n",
    "|NULL|Peach-Pear Sparkling Water|Organic Half & Half|"
   ]
  },
  {
   "cell_type": "markdown",
   "metadata": {},
   "source": [
    "Okay, in the above table, we can see the Actual Purcase of Customer# 90 and the Recommendations from Model1(Cosine Similarity ) and Model2(Alernating Least Sqaures).\n",
    "<br>The Customer seems to buy Cereals and Granola and some Chocolates and fruit snacks.\n",
    "<br><br> **Model1** has recommended some other variety of cereals and granolas and even some chocolate and fruit snacks which seems quite appropriate.\n",
    "<br><br> Interestingly, **Model2** has recommended different varieties of Milk which goes perfectly with the Cereals and Granolas and some other breakfast items like eggs, salami and fruits.\n",
    "<br><br> Thus, in my opinion both the recommendations are appropriate.\n",
    "Now, let's see if we can evaluate the performance of both the Models with some Metrics."
   ]
  },
  {
   "cell_type": "markdown",
   "metadata": {},
   "source": [
    "## Evalutaion Metrics"
   ]
  },
  {
   "cell_type": "markdown",
   "metadata": {},
   "source": [
    "Evaluating implicit feedback based recommendations is always tricky. Below is the approach that I have followed here:\n",
    "\n",
    "- Used the high volumn dataset (products that users reordered more than once)\n",
    "- Got the top 20 recommendations using both the models \n",
    "- Calculated Recall by using # of user actions (products bought) that were captured by top 20 recommendations.\n",
    "- Calculated these for all the users and average them."
   ]
  },
  {
   "cell_type": "code",
   "execution_count": 42,
   "metadata": {},
   "outputs": [],
   "source": [
    "# filter high volume users\n",
    "df_users = df_high_volume.user_id.unique().tolist()"
   ]
  },
  {
   "cell_type": "code",
   "execution_count": 40,
   "metadata": {},
   "outputs": [],
   "source": [
    "def calc_recall():\n",
    "    model1_score = []\n",
    "    model2_score = []\n",
    "    for user in sorted(df_users):\n",
    "        ordered_items = data[data.user_id == user].product_name.value_counts().sort_values(ascending= False)\n",
    "        model1_recommendations = Cos_Similarity_Recommender(df_high_volume,user,20)[\"product_name\"].reset_index()\n",
    "        model2_recommendations = get_als_recommendations(als_model,user,20)\n",
    "\n",
    "        ordered_items_list = ordered_items.index.tolist()\n",
    "        model1_recommendations_list = model1_recommendations.product_name.tolist()\n",
    "        \n",
    "        model1_score.append((len(set(model1_recommendations_list) & set(ordered_items_list)))/20)\n",
    "        model2_score.append((len(set(model2_recommendations) & set(ordered_items_list)))/20)\n",
    "    return np.mean(model1_score),np.mean(model2_score)\n"
   ]
  },
  {
   "cell_type": "code",
   "execution_count": 43,
   "metadata": {},
   "outputs": [],
   "source": [
    "score1, score2 = calc_recall()"
   ]
  },
  {
   "cell_type": "code",
   "execution_count": 44,
   "metadata": {},
   "outputs": [
    {
     "name": "stdout",
     "output_type": "stream",
     "text": [
      "Score of Cosine Similarity Model:  0.1220662347012239\n",
      "Score of ALS Model              :  0.22048236141108712\n"
     ]
    }
   ],
   "source": [
    "print(\"Score of Cosine Similarity Model: \", score1)\n",
    "print(\"Score of ALS Model              : \", score2)"
   ]
  },
  {
   "cell_type": "markdown",
   "metadata": {},
   "source": [
    "## Conclusion"
   ]
  },
  {
   "cell_type": "markdown",
   "metadata": {},
   "source": [
    "As per the above metrics, it seems like the **ALS Model** did a little better than the **Cosine Similarity Model**.Let's take a few examples and understnad how the metrics actually worked."
   ]
  },
  {
   "cell_type": "code",
   "execution_count": 48,
   "metadata": {},
   "outputs": [
    {
     "data": {
      "text/plain": [
       "[202279, 205970, 178520, 156122, 3107]"
      ]
     },
     "execution_count": 48,
     "metadata": {},
     "output_type": "execute_result"
    }
   ],
   "source": [
    "df_users[0:5]"
   ]
  },
  {
   "cell_type": "markdown",
   "metadata": {},
   "source": [
    "#### Let's check for User# 202279"
   ]
  },
  {
   "cell_type": "markdown",
   "metadata": {},
   "source": [
    "**check actual ordered items**"
   ]
  },
  {
   "cell_type": "code",
   "execution_count": 49,
   "metadata": {},
   "outputs": [
    {
     "data": {
      "text/plain": [
       "['Gala Apples',\n",
       " 'Organic Hearts Of Romaine',\n",
       " 'Classic Chevre Crumbled Goat Cheese',\n",
       " 'Whipped Sweet Potatoes',\n",
       " 'Organic Heavy Whipping Cream',\n",
       " 'Classic Recipe Milk Chocolate Bar',\n",
       " 'Red Vine Tomato',\n",
       " 'Hot & Sour Soup Bowl',\n",
       " 'Gluten Free White Cheddar Popped Corn Chips',\n",
       " 'French Batard Bread',\n",
       " 'Organic Italian Herb Pasta Sauce',\n",
       " 'Apricot Preserves',\n",
       " 'Cornichons Extra Fine Gherkins Hand-Picked',\n",
       " 'Organic Russet Potato',\n",
       " 'Organic Orange Soda',\n",
       " 'Bunched Cilantro',\n",
       " 'Couscous Original',\n",
       " 'Orecchiette Dry Pasta',\n",
       " 'Roasted Unsalted Almonds',\n",
       " 'Organic Yellow Onion',\n",
       " 'Strawberries',\n",
       " 'Cheese Pizza Snacks',\n",
       " 'Hazelnut Spread With Skim Milk & Cocoa',\n",
       " 'Organic Blackberries',\n",
       " 'Limes',\n",
       " 'Chicken Bouillon Cubes',\n",
       " 'Birthday Candles',\n",
       " 'Gluten Free Chocolate Chip Cookies',\n",
       " 'European Style Salted Butter',\n",
       " 'Red Grapes',\n",
       " 'Raspberry Preserves',\n",
       " 'Lady Alice Apple',\n",
       " 'Live Butter Lettuce',\n",
       " 'Spanish Rice',\n",
       " 'Cage Free Grade A Large Brown Eggs',\n",
       " 'Healthy Weight Cat Food',\n",
       " 'Extra Virgin Olive Oil',\n",
       " 'Original Nooks & Crannies English Muffins',\n",
       " 'Dijon Style Mustard',\n",
       " 'Spaghetti  No 12',\n",
       " 'Original Orange Juice',\n",
       " 'Organic Zucchini',\n",
       " 'Goldfish Cheddar Baked Snack Crackers',\n",
       " 'Raspberries',\n",
       " 'Carrots',\n",
       " 'Strawberry Preserves',\n",
       " 'Sparkling Apple-Grape 100% Juice',\n",
       " 'Citrus Beverage, Sparkling, with Natural Pulp',\n",
       " 'Cucumber & Garlic  Tzatziki',\n",
       " 'Large Lemon',\n",
       " 'Organic Strawberry Smoothie',\n",
       " 'European Style Smoked Salmon',\n",
       " 'Mini Original Babybel Cheese',\n",
       " 'Clean Day Honeysuckle Scent Multi-Surface Cleaner',\n",
       " 'Chocolate Mousse Cake',\n",
       " 'Totopos de Maiz Mexican Style Thin & Crispy Salted Tortilla Chips',\n",
       " 'Yellow Onions',\n",
       " 'Miso Soup Bowl',\n",
       " 'Garlic',\n",
       " 'Clean Care Bath Tissue Rolls',\n",
       " 'Organic Orange Bell Pepper',\n",
       " 'European Style Unsalted Butter',\n",
       " 'Simply White Natural Clean Mint Fluoride Toothpaste',\n",
       " 'Organic Yukon Gold Potatoes',\n",
       " 'Salted Butter',\n",
       " 'Uncured Hickory Smoked Sunday Bacon',\n",
       " 'Prosciutto Di Parma',\n",
       " 'Splits\\\\\" Pretzels Original',\n",
       " 'Asian Vegetable Ramen',\n",
       " 'Eggo Homestyle Waffles',\n",
       " 'Eggo Buttermilk Waffles',\n",
       " 'Seedless Cucumbers',\n",
       " 'Triple Cream Cheese',\n",
       " 'Brie',\n",
       " 'Organic Leek',\n",
       " 'Fancy Eggplant',\n",
       " 'Small Hass Avocado']"
      ]
     },
     "execution_count": 49,
     "metadata": {},
     "output_type": "execute_result"
    }
   ],
   "source": [
    "ordered_items = data[data.user_id == 202279].product_name.value_counts().sort_values(ascending= False)\n",
    "ordered_items_list = ordered_items.index.tolist()\n",
    "ordered_items_list"
   ]
  },
  {
   "cell_type": "markdown",
   "metadata": {},
   "source": [
    "**Check Recommendationd from Model1 - Cosine Similarity Model**"
   ]
  },
  {
   "cell_type": "code",
   "execution_count": 51,
   "metadata": {},
   "outputs": [
    {
     "data": {
      "text/plain": [
       "['Carrots',\n",
       " 'Michigan Organic Kale',\n",
       " 'Bag of Organic Bananas',\n",
       " 'Banana',\n",
       " 'Organic Hass Avocado',\n",
       " 'Organic Strawberries',\n",
       " 'All Natural No Stir Creamy Almond Butter',\n",
       " 'Organic Baby Spinach',\n",
       " 'Organic Avocado',\n",
       " 'Organic Yellow Onion',\n",
       " 'Organic Red Bell Pepper',\n",
       " 'Organic Lemon',\n",
       " 'Cucumber Kirby',\n",
       " 'Organic Large Extra Fancy Fuji Apple',\n",
       " 'Limes',\n",
       " 'Organic Small Bunch Celery',\n",
       " 'Honeycrisp Apple',\n",
       " 'Fresh Cauliflower',\n",
       " 'Organic Zucchini',\n",
       " 'Organic Whole Milk']"
      ]
     },
     "execution_count": 51,
     "metadata": {},
     "output_type": "execute_result"
    }
   ],
   "source": [
    "model1_recommendations = Cos_Similarity_Recommender(df_high_volume,202279,20)[\"product_name\"].reset_index()\n",
    "model1_recommendations_list = model1_recommendations.product_name.tolist()  \n",
    "model1_recommendations_list"
   ]
  },
  {
   "cell_type": "markdown",
   "metadata": {},
   "source": [
    "**Check Recommendationd from Model2 - ALS Model**"
   ]
  },
  {
   "cell_type": "code",
   "execution_count": 52,
   "metadata": {},
   "outputs": [
    {
     "data": {
      "text/plain": [
       "['Banana',\n",
       " 'Bag of Organic Bananas',\n",
       " 'Organic Avocado',\n",
       " 'Organic Strawberries',\n",
       " 'Organic Baby Spinach',\n",
       " 'Large Lemon',\n",
       " 'Strawberries',\n",
       " 'Organic Whole Milk',\n",
       " 'Limes',\n",
       " 'Organic Hass Avocado',\n",
       " 'Cucumber Kirby',\n",
       " 'Organic Fuji Apple',\n",
       " 'Organic Blueberries',\n",
       " 'Organic Raspberries',\n",
       " 'Honeycrisp Apple',\n",
       " 'Red Vine Tomato',\n",
       " 'Organic Zucchini',\n",
       " 'Seedless Red Grapes',\n",
       " 'Asparagus',\n",
       " 'Yellow Onions']"
      ]
     },
     "execution_count": 52,
     "metadata": {},
     "output_type": "execute_result"
    }
   ],
   "source": [
    "model2_recommendations = get_als_recommendations(als_model,202279,20)\n",
    "model2_recommendations"
   ]
  },
  {
   "cell_type": "markdown",
   "metadata": {},
   "source": [
    "Now, let's take a look at the items actually bought by the user which were recommended by Model1."
   ]
  },
  {
   "cell_type": "code",
   "execution_count": 53,
   "metadata": {},
   "outputs": [
    {
     "data": {
      "text/plain": [
       "{'Carrots', 'Limes', 'Organic Yellow Onion', 'Organic Zucchini'}"
      ]
     },
     "execution_count": 53,
     "metadata": {},
     "output_type": "execute_result"
    }
   ],
   "source": [
    "set(model1_recommendations_list) & set(ordered_items_list)"
   ]
  },
  {
   "cell_type": "markdown",
   "metadata": {},
   "source": [
    "Similarly, let's take a look at the items actually bought by the user which were recommended by Model2"
   ]
  },
  {
   "cell_type": "code",
   "execution_count": 54,
   "metadata": {},
   "outputs": [
    {
     "data": {
      "text/plain": [
       "{'Large Lemon',\n",
       " 'Limes',\n",
       " 'Organic Zucchini',\n",
       " 'Red Vine Tomato',\n",
       " 'Strawberries',\n",
       " 'Yellow Onions'}"
      ]
     },
     "execution_count": 54,
     "metadata": {},
     "output_type": "execute_result"
    }
   ],
   "source": [
    "set(model2_recommendations) & set(ordered_items_list)"
   ]
  },
  {
   "cell_type": "markdown",
   "metadata": {},
   "source": [
    "For the above example, out of 20 recommendations, 4 items recommended by Model1 are actually purchased by the User. Similarly, out of 20 recommendations, 6 items recommended by Model2 are purchased by the User. \n",
    "Clearly,for this example, Model2 did a better job compare to Model1."
   ]
  },
  {
   "cell_type": "code",
   "execution_count": null,
   "metadata": {},
   "outputs": [],
   "source": []
  }
 ],
 "metadata": {
  "kernelspec": {
   "display_name": "Python 3",
   "language": "python",
   "name": "python3"
  },
  "language_info": {
   "codemirror_mode": {
    "name": "ipython",
    "version": 3
   },
   "file_extension": ".py",
   "mimetype": "text/x-python",
   "name": "python",
   "nbconvert_exporter": "python",
   "pygments_lexer": "ipython3",
   "version": "3.7.1"
  }
 },
 "nbformat": 4,
 "nbformat_minor": 2
}
