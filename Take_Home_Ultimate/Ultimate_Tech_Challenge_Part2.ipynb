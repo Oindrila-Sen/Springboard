{
 "cells": [
  {
   "cell_type": "markdown",
   "metadata": {},
   "source": [
    "## Part 2 ‐ Experiment and Metrics Design"
   ]
  },
  {
   "cell_type": "markdown",
   "metadata": {},
   "source": [
    "The neighboring cities of Gotham and Metropolis have complementary circadian rhythms: \n",
    "\n",
    "On weekdays,\n",
    "- Ultimate Gotham is most active at night, \n",
    "- Ultimate Metropolis is most active during the day. \n",
    "\n",
    "On weekends, there is reasonable activity in both cities.\n",
    "\n",
    "However, a toll bridge, with a two way toll, between the two cities causes driver partners to tend to be exclusive to each city. The Ultimate managers of city operations for the two cities have proposed an experiment to encourage driver partners to be available in both cities, by reimbursing all toll costs.\n",
    "\n",
    "1. What would you choose as the key measure of success of this experiment in encouraging driver partners to serve both cities, and why would you choose this metric?\n",
    "2. Describe a practical experiment you would design to compare the effectiveness of the proposed change in relation to the key measure of success. \n",
    "\n",
    "<br>Please provide details on:\n",
    "<br>a. how you will implement the experiment\n",
    "<br>b. what statistical test(s) you will conduct to verify the significance of the\n",
    "observation\n",
    "<br>c. how you would interpret the results and provide recommendations to the city\n",
    "operations team along with any caveats."
   ]
  },
  {
   "cell_type": "markdown",
   "metadata": {},
   "source": [
    "### Answers:"
   ]
  },
  {
   "cell_type": "markdown",
   "metadata": {},
   "source": [
    "As per my understanding, because of the two way toll between the cities, drivers tend to be exclusive to each city.Thus the people who work inter-city or travelling Inter-City are suffering. Let's find the main problem here.\n",
    "\n",
    "**Problem:** No/Less Rides avialable Inter-City\n",
    "<br> **Solution:** Reimbursement of all toll costs"
   ]
  },
  {
   "cell_type": "markdown",
   "metadata": {},
   "source": [
    "**What would you choose as the key measure of success of this experiment in encouraging driver partners to serve both cities, and why would you choose this metric?**"
   ]
  },
  {
   "cell_type": "markdown",
   "metadata": {},
   "source": [
    "One metric that we can choose as the key measure is **Profit.**\n",
    "Another important metric can be **Signups/Logins Count\".\n",
    "\n",
    "A metric is required to find out if the experiement has Positive results or Negative Results. \n",
    "\n",
    "**Profit.** The Ultimate Goal behind any business is to earn Profit and it is a easy metric to calculate. Reimbursing the Toll amount can incur some loss. But, if more rides are booked then the loss can be covered and even they can earn some profit. \n",
    "\n",
    "**Signups/Logins Count\"** Already have data for Login Times. After proposed changes,we can analyze metrics that will include login times before and after implementation. If the count increases, that means the experiment has positive results."
   ]
  },
  {
   "cell_type": "markdown",
   "metadata": {},
   "source": [
    "**Describe a practical experiment you would design to compare the effectiveness of the proposed change in relation to the key measure of success.**"
   ]
  },
  {
   "cell_type": "markdown",
   "metadata": {},
   "source": [
    "Once the Experiment is decided and the Metrics are confirmed, we need to maintain and record Data like Rides Booked date,Time,Inter-City or Intra-City, Toll Amount, Reimbursement amount as 0 for a period of time, say 6 months.\n",
    "\n",
    "Then After the Experiemnt is kicked Off, same data are recorded for same period of time.\n",
    "\n",
    "At the end of the experiemnet, Account will be balanced and checked if there is any profit of loss and that can be the decision maker.\n",
    "\n",
    "\n",
    "We can use a statistical power test to estimate the data required to be able to discern any statistical significance. Then we could run a two-tailed z-test comparing sample proportions (since that is what the ratio is). This would give us a z-score and associated p-value. A low p-value (say at α=0.01) would potentially indicate a significant change in our KPI (good or bad). We could further calculate the confidence intervals for this to be able to strongly claim a statistical change in the KPI, if it exists."
   ]
  },
  {
   "cell_type": "code",
   "execution_count": null,
   "metadata": {},
   "outputs": [],
   "source": []
  }
 ],
 "metadata": {
  "kernelspec": {
   "display_name": "Python 3",
   "language": "python",
   "name": "python3"
  },
  "language_info": {
   "codemirror_mode": {
    "name": "ipython",
    "version": 3
   },
   "file_extension": ".py",
   "mimetype": "text/x-python",
   "name": "python",
   "nbconvert_exporter": "python",
   "pygments_lexer": "ipython3",
   "version": "3.7.1"
  }
 },
 "nbformat": 4,
 "nbformat_minor": 2
}
